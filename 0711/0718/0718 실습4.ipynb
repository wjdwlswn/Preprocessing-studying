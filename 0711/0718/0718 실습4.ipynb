{
 "cells": [
  {
   "cell_type": "code",
   "execution_count": 1,
   "id": "86d7fc48",
   "metadata": {},
   "outputs": [],
   "source": [
    "import csv"
   ]
  },
  {
   "cell_type": "code",
   "execution_count": 2,
   "id": "640dc381",
   "metadata": {},
   "outputs": [],
   "source": [
    "with open('top_cities.csv','w',newline='',encoding='utf-8')as f:\n",
    "    writer = csv.DictWriter(f, ['rank','city','population'])\n",
    "    writer.writeheader()\n",
    "    writer.writerows([\n",
    "        {'rank':1, 'city':'상하이', 'population':24150000},\n",
    "        {'rank':2, 'city':'카라치', 'population':23500000},\n",
    "        {'rank':3, 'city':'베이징', 'population':215160000},\n",
    "        {'rank':4, 'city':'텐진', 'population':147221000},\n",
    "        {'rank':5, 'city':'이스탄불', 'population':14160467},\n",
    "    ])"
   ]
  },
  {
   "cell_type": "code",
   "execution_count": 3,
   "id": "c0fd4c61",
   "metadata": {},
   "outputs": [],
   "source": [
    "import chardet"
   ]
  },
  {
   "cell_type": "code",
   "execution_count": 4,
   "id": "9f81b3c3",
   "metadata": {},
   "outputs": [],
   "source": [
    "char_dic = chardet.detect(open('top_cities.csv','rb').read())"
   ]
  },
  {
   "cell_type": "code",
   "execution_count": 5,
   "id": "7fee27fa",
   "metadata": {},
   "outputs": [
    {
     "data": {
      "text/plain": [
       "'utf-8'"
      ]
     },
     "execution_count": 5,
     "metadata": {},
     "output_type": "execute_result"
    }
   ],
   "source": [
    "char_dic['encoding']"
   ]
  },
  {
   "cell_type": "code",
   "execution_count": 6,
   "id": "dd3a91ec",
   "metadata": {},
   "outputs": [],
   "source": [
    "import json"
   ]
  },
  {
   "cell_type": "code",
   "execution_count": 7,
   "id": "e4d4fdcf",
   "metadata": {},
   "outputs": [],
   "source": [
    "cities = [\n",
    "{'rank':1, 'city':'상하이', 'population':24150000},\n",
    "{'rank':2, 'city':'카라치', 'population':23500000},\n",
    "{'rank':3, 'city':'베이징', 'population':215160000},\n",
    "{'rank':4, 'city':'텐진', 'population':147221000},\n",
    "{'rank':5, 'city':'이스탄불', 'population':14160467},\n",
    "]"
   ]
  },
  {
   "cell_type": "code",
   "execution_count": 9,
   "id": "47026018",
   "metadata": {},
   "outputs": [],
   "source": [
    "with open ('top_cities.json','w')as fw:\n",
    "    json.dump(cities,fw)"
   ]
  },
  {
   "cell_type": "code",
   "execution_count": 12,
   "id": "65ac5ac0",
   "metadata": {},
   "outputs": [
    {
     "name": "stdout",
     "output_type": "stream",
     "text": [
      "[{'rank': 1, 'city': '상하이', 'population': 24150000}, {'rank': 2, 'city': '카라치', 'population': 23500000}, {'rank': 3, 'city': '베이징', 'population': 215160000}, {'rank': 4, 'city': '텐진', 'population': 147221000}, {'rank': 5, 'city': '이스탄불', 'population': 14160467}]\n"
     ]
    }
   ],
   "source": [
    "with open ('top_cities.json','r')as fr:\n",
    "    json_file= json.load(fr)\n",
    "    print(json_file)"
   ]
  },
  {
   "cell_type": "code",
   "execution_count": 13,
   "id": "87c3b7c6",
   "metadata": {},
   "outputs": [],
   "source": [
    "import pandas as pd\n",
    "import sqlite3\n",
    "from pandas.io import sql\n",
    "import os"
   ]
  },
  {
   "cell_type": "code",
   "execution_count": 14,
   "id": "2bb92e3a",
   "metadata": {},
   "outputs": [],
   "source": [
    "DB_NAME = 'top_cities.db'\n",
    "TABLE_NAME = 'TOP_CITIES'"
   ]
  },
  {
   "cell_type": "code",
   "execution_count": 15,
   "id": "3a1f1ee4",
   "metadata": {},
   "outputs": [],
   "source": [
    "def db_save(df, db_name, table_name):\n",
    "    with sqlite3.connect(db_name) as con:\n",
    "        try:\n",
    "            df.to_sql(new = table_name, con=con, index=False,if_exists='append')\n",
    "        except Excepion as e:\n",
    "            print(str(e))\n",
    "        print(len(df), '건 저장완료..')"
   ]
  },
  {
   "cell_type": "code",
   "execution_count": 18,
   "id": "ca7a43be",
   "metadata": {},
   "outputs": [],
   "source": [
    "def db_select(df, db_name, table_name):\n",
    "    with sqlite3.connect(db_name) as con:\n",
    "        try:\n",
    "            query = 'SELECT*FROM{}'.format(table_name)\n",
    "            df = pd.read_sql(query,con=con)\n",
    "        except Exception as e:\n",
    "                print(str(e))\n",
    "                return df"
   ]
  },
  {
   "cell_type": "code",
   "execution_count": 19,
   "id": "d3c2f2b9",
   "metadata": {},
   "outputs": [],
   "source": [
    "def db_select(df, db_name, table_name):\n",
    "    with sqlite3.connect(db_name) as con:\n",
    "        try:\n",
    "            cur = con.cursor()\n",
    "            sql = 'DELETE FROM{}'.format(table_name)\n",
    "            cur.excute(sql)\n",
    "        except Exception as e:\n",
    "            print(str(e))"
   ]
  },
  {
   "cell_type": "code",
   "execution_count": null,
   "id": "45bc338a",
   "metadata": {},
   "outputs": [],
   "source": []
  }
 ],
 "metadata": {
  "kernelspec": {
   "display_name": "Python 3 (ipykernel)",
   "language": "python",
   "name": "python3"
  },
  "language_info": {
   "codemirror_mode": {
    "name": "ipython",
    "version": 3
   },
   "file_extension": ".py",
   "mimetype": "text/x-python",
   "name": "python",
   "nbconvert_exporter": "python",
   "pygments_lexer": "ipython3",
   "version": "3.9.12"
  }
 },
 "nbformat": 4,
 "nbformat_minor": 5
}
