{
 "cells": [
  {
   "cell_type": "code",
   "execution_count": 1,
   "id": "ef604ffc",
   "metadata": {},
   "outputs": [],
   "source": [
    "import re\n",
    "import sqlite3\n",
    "from urllib.request import urlopen\n",
    "from html import unescape\n",
    "import pandas as pd\n",
    "import os"
   ]
  },
  {
   "cell_type": "code",
   "execution_count": null,
   "id": "da6e2a5f",
   "metadata": {},
   "outputs": [],
   "source": [
    "def main():\n",
    "    html = fetch('http://www.hanbit.co.kr/store/books/full_book_list_html')\n",
    "    books=scrape(html)\n",
    "    save('books.db',books)"
   ]
  },
  {
   "cell_type": "code",
   "execution_count": null,
   "id": "33aa6d35",
   "metadata": {},
   "outputs": [],
   "source": [
    "def fetch(url):\n",
    "    f = urlopen(url)\n",
    "    encoding = f.info().get_content_charset(failobj=\"utf-8\")\n",
    "    html = f.read().decode(encoding)\n",
    "    return html"
   ]
  },
  {
   "cell_type": "code",
   "execution_count": null,
   "id": "ee3ba330",
   "metadata": {},
   "outputs": [],
   "source": [
    "def scrape(html):\n",
    "    books=[]\n",
    "    for partial_html in re.findall(r'<td class=\"left\"><a.*?></td>',html,re.DOTALL):\n",
    "        url = re.search(r'<a href=\"(.*?)\">',partial_html).group(1)\n",
    "        url='http://hanbit.co.kr'+url\n",
    "        title = re.sub(r'<.*?>','',partial_html)\n",
    "        title = unescape(title)\n",
    "        books.append(pd.DataFrame({'url':[url],'title':[title]}))\n",
    "    return pd.concat(books)"
   ]
  },
  {
   "cell_type": "code",
   "execution_count": null,
   "id": "0f416048",
   "metadata": {},
   "outputs": [],
   "source": [
    "def save(db_path, books):\n",
    "    with sqlite3.connect(os.path.join('.', db_path)) as con: # sqlite DB 파일이 존재하지 않는 경우 파일생성\n",
    "        try:\n",
    "            books.to_sql(name = 'BOOKS_INFO', con = con, index = False, if_exists='append') \n",
    "            #if_exists : {'fail', 'replace', 'append'} default : fail\n",
    "        except Exception as e:\n",
    "            print(str(e))\n",
    "    \n",
    "    query = 'SELECT * FROM BOOKS_INFO'\n",
    "    df = pd.read_sql(query, con = con)\n",
    "    return df"
   ]
  },
  {
   "cell_type": "code",
   "execution_count": null,
   "id": "6aa07285",
   "metadata": {},
   "outputs": [],
   "source": [
    "html = fetch('http://www.hanbit.co.kr/store/books/full_book_list.html')"
   ]
  },
  {
   "cell_type": "code",
   "execution_count": null,
   "id": "ef4ce38f",
   "metadata": {
    "scrolled": true
   },
   "outputs": [],
   "source": [
    "df = scrape(html)\n",
    "df.reset_index(drop=True, inplace=True)\n",
    "df2 = save('books.db', df)\n",
    "df2"
   ]
  },
  {
   "cell_type": "code",
   "execution_count": 4,
   "id": "17ec889a",
   "metadata": {},
   "outputs": [
    {
     "name": "stdout",
     "output_type": "stream",
     "text": [
      "Requirement already satisfied: lxml in c:\\users\\user\\anaconda3\\lib\\site-packages (4.8.0)\n",
      "Requirement already satisfied: cssselect in c:\\users\\user\\anaconda3\\lib\\site-packages (1.1.0)\n"
     ]
    }
   ],
   "source": [
    "!pip install lxml\n",
    "!pip install cssselect"
   ]
  },
  {
   "cell_type": "code",
   "execution_count": 5,
   "id": "2e7e6955",
   "metadata": {},
   "outputs": [],
   "source": [
    "import lxml.html"
   ]
  },
  {
   "cell_type": "raw",
   "id": "ed99b7ce",
   "metadata": {},
   "source": [
    "tree = lxml.html.parse('full_book_list.html', 'rt', encoding='utf-8')\n",
    "html = tree.getroot()"
   ]
  },
  {
   "cell_type": "code",
   "execution_count": 7,
   "id": "b397ce5e",
   "metadata": {},
   "outputs": [
    {
     "ename": "NameError",
     "evalue": "name 'html' is not defined",
     "output_type": "error",
     "traceback": [
      "\u001b[1;31m---------------------------------------------------------------------------\u001b[0m",
      "\u001b[1;31mNameError\u001b[0m                                 Traceback (most recent call last)",
      "Input \u001b[1;32mIn [7]\u001b[0m, in \u001b[0;36m<cell line: 1>\u001b[1;34m()\u001b[0m\n\u001b[1;32m----> 1\u001b[0m \u001b[38;5;28;01mfor\u001b[39;00m a \u001b[38;5;129;01min\u001b[39;00m \u001b[43mhtml\u001b[49m\u001b[38;5;241m.\u001b[39mcssselect(\u001b[38;5;124m'\u001b[39m\u001b[38;5;124ma\u001b[39m\u001b[38;5;124m'\u001b[39m):\n\u001b[0;32m      2\u001b[0m     \u001b[38;5;28mprint\u001b[39m(a\u001b[38;5;241m.\u001b[39mget(\u001b[38;5;124m'\u001b[39m\u001b[38;5;124mhref\u001b[39m\u001b[38;5;124m'\u001b[39m),a\u001b[38;5;241m.\u001b[39mtext)\n",
      "\u001b[1;31mNameError\u001b[0m: name 'html' is not defined"
     ]
    }
   ],
   "source": [
    "for a in html.cssselect('a'):\n",
    "    print(a.get('href'),a.text)"
   ]
  },
  {
   "cell_type": "code",
   "execution_count": null,
   "id": "5741df90",
   "metadata": {},
   "outputs": [],
   "source": []
  },
  {
   "cell_type": "code",
   "execution_count": null,
   "id": "6742d18b",
   "metadata": {},
   "outputs": [],
   "source": []
  }
 ],
 "metadata": {
  "kernelspec": {
   "display_name": "Python 3 (ipykernel)",
   "language": "python",
   "name": "python3"
  },
  "language_info": {
   "codemirror_mode": {
    "name": "ipython",
    "version": 3
   },
   "file_extension": ".py",
   "mimetype": "text/x-python",
   "name": "python",
   "nbconvert_exporter": "python",
   "pygments_lexer": "ipython3",
   "version": "3.9.12"
  }
 },
 "nbformat": 4,
 "nbformat_minor": 5
}
